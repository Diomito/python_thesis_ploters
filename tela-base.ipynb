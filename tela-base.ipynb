{
 "cells": [
  {
   "cell_type": "code",
   "execution_count": null,
   "metadata": {},
   "outputs": [],
   "source": [
    "import tkinter as tk\n",
    "from tkinter import filedialog, messagebox\n",
    "import pandas as pd\n",
    "import matplotlib.pyplot as plt\n",
    "from matplotlib.backends.backend_tkagg import FigureCanvasTkAgg, NavigationToolbar2Tk\n",
    "from tkinter import messagebox\n",
    "import statistics\n",
    "import numpy as np\n",
    "import re\n",
    "\n",
    "df = pd.read_csv('combined.csv', sep=',')\n",
    "\n",
    "plt.figure(figsize=(16, 12), dpi=100)\n",
    "sns.kdeplot(x=df['fixation x [px]'], y=df['fixation y [px]'], cmap=\"Reds\", shade=True, bw_adjust=.5)\n",
    "plt.gca().invert_yaxis()\n",
    "plt.xlim([0, 1600])\n",
    "plt.ylim([1200, 0])\n",
    "plt.xlabel('Fixation X [px]')\n",
    "plt.ylabel('Fixation Y [px]')\n",
    "plt.title('Heatmap of Fixation Points')\n",
    "plt.show()"
   ]
  }
 ],
 "metadata": {
  "language_info": {
   "name": "python"
  }
 },
 "nbformat": 4,
 "nbformat_minor": 2
}
